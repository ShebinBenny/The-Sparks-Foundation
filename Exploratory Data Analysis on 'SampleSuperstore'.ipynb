{
 "cells": [
  {
   "cell_type": "code",
   "execution_count": null,
   "metadata": {},
   "outputs": [],
   "source": [
    "# importing required packages\n",
    "import pandas as pd\n",
    "import pandas_profiling\n",
    "import numpy as np\n",
    "import matplotlib.pyplot as plt\n",
    "import seaborn as sns \n",
    "import scipy.stats as stats\n",
    "%matplotlib inline "
   ]
  },
  {
   "cell_type": "code",
   "execution_count": null,
   "metadata": {},
   "outputs": [],
   "source": [
    "#importing dataset\n",
    "df=pd.read_csv(\"D:/Shebin/Internship/The Sparks Foundation/Task 2/Business Analytics/SampleSuperstore.csv\")\n",
    "df.head()"
   ]
  },
  {
   "cell_type": "code",
   "execution_count": null,
   "metadata": {},
   "outputs": [],
   "source": [
    "df.info()"
   ]
  },
  {
   "cell_type": "code",
   "execution_count": null,
   "metadata": {},
   "outputs": [],
   "source": [
    "df.describe()"
   ]
  },
  {
   "cell_type": "code",
   "execution_count": null,
   "metadata": {},
   "outputs": [],
   "source": [
    "df.shape"
   ]
  },
  {
   "cell_type": "code",
   "execution_count": null,
   "metadata": {},
   "outputs": [],
   "source": [
    "duplicate_rows_df = df[df.duplicated()]"
   ]
  },
  {
   "cell_type": "code",
   "execution_count": null,
   "metadata": {},
   "outputs": [],
   "source": [
    "df.count()"
   ]
  },
  {
   "cell_type": "code",
   "execution_count": null,
   "metadata": {},
   "outputs": [],
   "source": [
    "df = df.drop_duplicates()\n",
    "df.head(5)"
   ]
  },
  {
   "cell_type": "code",
   "execution_count": null,
   "metadata": {},
   "outputs": [],
   "source": [
    "df.tail(5)"
   ]
  },
  {
   "cell_type": "code",
   "execution_count": null,
   "metadata": {},
   "outputs": [],
   "source": [
    "df.count()"
   ]
  },
  {
   "cell_type": "code",
   "execution_count": null,
   "metadata": {},
   "outputs": [],
   "source": [
    "# Finding the null values.\n",
    "print(df.isnull().sum())\n"
   ]
  },
  {
   "cell_type": "code",
   "execution_count": null,
   "metadata": {},
   "outputs": [],
   "source": [
    "#finding correlation between values\n",
    "df.corr()"
   ]
  },
  {
   "cell_type": "code",
   "execution_count": null,
   "metadata": {},
   "outputs": [],
   "source": [
    "#profit gained by each categories\n",
    "(df.groupby(['Category'])['Profit'].sum()/df.groupby(['Category'])['Sub-Category'].count()).head()"
   ]
  },
  {
   "cell_type": "code",
   "execution_count": null,
   "metadata": {},
   "outputs": [],
   "source": [
    "#Which consumers are frequent buyers\n",
    "df.groupby(['City'])['Segment'].count().reset_index().sort_values(by='Segment',ascending = False).head()"
   ]
  },
  {
   "cell_type": "code",
   "execution_count": null,
   "metadata": {},
   "outputs": [],
   "source": [
    "#Which products have high discount rate\n",
    "df.groupby(['Category','Sub-Category'])['Discount'].describe().reset_index().sort_values(by = 'max', ascending = False).head()"
   ]
  },
  {
   "cell_type": "code",
   "execution_count": null,
   "metadata": {},
   "outputs": [],
   "source": [
    "df[\"Segment\"].value_counts().plot(kind=\"bar\")"
   ]
  },
  {
   "cell_type": "code",
   "execution_count": null,
   "metadata": {},
   "outputs": [],
   "source": [
    "df1=df[['Sales','Quantity','Discount','Profit']]\n",
    "sns.heatmap(df.corr(),annot=True)"
   ]
  },
  {
   "cell_type": "code",
   "execution_count": null,
   "metadata": {},
   "outputs": [],
   "source": [
    "#Here it can be observed that the sale of office supplies is way higher than that of the other two categories\n",
    "df['Category'].value_counts().plot(kind=\"bar\")"
   ]
  },
  {
   "cell_type": "code",
   "execution_count": null,
   "metadata": {},
   "outputs": [],
   "source": [
    "#Here the data is highly skewed\n",
    "sns.distplot(df[\"Sales\"])"
   ]
  },
  {
   "cell_type": "code",
   "execution_count": null,
   "metadata": {},
   "outputs": [],
   "source": [
    "#Here it can be seen that it is not necessary that with the increase in sale profit increases\n",
    "sns.scatterplot(\"Sales\",'Profit',data=df)"
   ]
  },
  {
   "cell_type": "code",
   "execution_count": null,
   "metadata": {},
   "outputs": [],
   "source": [
    "#Here it can be observed that profit decreases beyond 0.3 due to discounts\n",
    "axes,fig=plt.subplots(0,1,figsize=(18,5))\n",
    "sns.scatterplot(\"Discount\",'Profit',data=df)"
   ]
  },
  {
   "cell_type": "code",
   "execution_count": null,
   "metadata": {},
   "outputs": [],
   "source": [
    "#The total sale amt is decreasing after some point\n",
    "axes,fig=plt.subplots(0,1,figsize=(18,5))\n",
    "sns.scatterplot('Sales','Discount',data=df)"
   ]
  },
  {
   "cell_type": "code",
   "execution_count": null,
   "metadata": {},
   "outputs": [],
   "source": [
    "#Arranged on the basis of most selling items\n",
    "df['Sub-Category'].value_counts().plot(kind=\"bar\")"
   ]
  },
  {
   "cell_type": "code",
   "execution_count": null,
   "metadata": {},
   "outputs": [],
   "source": [
    "#There is more profit in west and east\n",
    "pd.crosstab(df[\"Region\"],df[\"Category\"],df[\"Profit\"],aggfunc='sum').plot(kind=\"bar\",stacked=True)"
   ]
  },
  {
   "cell_type": "code",
   "execution_count": null,
   "metadata": {},
   "outputs": [],
   "source": [
    "#Office supplies is the most selling category but the profit is highest from the technology sector \n",
    "pd.crosstab(index=df[\"Category\"],columns=df[\"Segment\"],values=df[\"Profit\"],aggfunc=\"sum\").plot(kind=\"bar\",stacked=True)"
   ]
  },
  {
   "cell_type": "code",
   "execution_count": null,
   "metadata": {},
   "outputs": [],
   "source": [
    "pd.crosstab(index=df[\"Category\"],columns=df[\"Ship Mode\"],values=df[\"Profit\"],aggfunc=\"sum\").plot(kind=\"bar\",stacked=True)"
   ]
  },
  {
   "cell_type": "code",
   "execution_count": null,
   "metadata": {},
   "outputs": [],
   "source": [
    "#The profit is very low almost 0 in the Furniture sector also the profit is high in the Technology sector\n",
    "sns.lmplot(x=\"Profit\",y=\"Sales\",data=df,fit_reg=False,col=\"Category\")\n",
    "plt.show()"
   ]
  },
  {
   "cell_type": "code",
   "execution_count": null,
   "metadata": {},
   "outputs": [],
   "source": [
    "#The profit is very high when the ship mode is Standard class\n",
    "sns.lmplot(x=\"Profit\",y=\"Sales\",data=df,fit_reg=False,col=\"Ship Mode\")"
   ]
  },
  {
   "cell_type": "code",
   "execution_count": null,
   "metadata": {},
   "outputs": [],
   "source": [
    "#Profit is more for copiers in compared to other categories\n",
    "axes,fig=plt.subplots(0,1,figsize=(18,5))\n",
    "sns.barplot(\"Sub-Category\",\"Profit\",data=df)"
   ]
  },
  {
   "cell_type": "code",
   "execution_count": null,
   "metadata": {},
   "outputs": [],
   "source": [
    "# # Observation\n",
    "# 1.When the discount is till 0.3, there is a profit,But if the discount increases beyond 0.3 there is a loss happening\n",
    "# \n",
    "# 2.Although office supplies is the most selling category but the profit is highest from the technology sector Under which the\n",
    "# the profit has come more from the Consumers segment\n",
    "# \n",
    "# 3.Although Copiers is the least selling sub-category but has given the most profit out of all the sub-categories.\n",
    "# \n",
    "# 4.There is a huge loss from the furniture section\n",
    "# \n",
    "# 5.The profit is more from the east and west region of the country.\n",
    "# \n",
    "\n",
    "# # Suggestion for business\n",
    "# \n",
    "# 1.The Discount should not be above 0.3.\n",
    "# \n",
    "# 2.The Furniture category is causing the most loss, so its better to increase the price of the cost or try to reduce overall cost\n",
    "# \n",
    "# 3.\"Same Day\" Shipping rates should be increased\n",
    "# \n",
    "# 4.Company should focus on tech section and try to concentrate on other sections too or there would be more loss in overall comparison "
   ]
  },
  {
   "cell_type": "code",
   "execution_count": null,
   "metadata": {},
   "outputs": [],
   "source": []
  }
 ],
 "metadata": {
  "kernelspec": {
   "display_name": "Python 3",
   "language": "python",
   "name": "python3"
  },
  "language_info": {
   "codemirror_mode": {
    "name": "ipython",
    "version": 3
   },
   "file_extension": ".py",
   "mimetype": "text/x-python",
   "name": "python",
   "nbconvert_exporter": "python",
   "pygments_lexer": "ipython3",
   "version": "3.7.6"
  }
 },
 "nbformat": 4,
 "nbformat_minor": 4
}
